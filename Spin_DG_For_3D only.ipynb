{
 "cells": [
  {
   "cell_type": "code",
   "execution_count": 1,
   "metadata": {},
   "outputs": [],
   "source": [
    "import numpy as np"
   ]
  },
  {
   "cell_type": "code",
   "execution_count": 2,
   "metadata": {},
   "outputs": [],
   "source": [
    "npoints=1000\n",
    "dim=3"
   ]
  },
  {
   "cell_type": "code",
   "execution_count": 3,
   "metadata": {},
   "outputs": [],
   "source": [
    "x1=np.random.random((npoints,dim))\n",
    "x2=np.random.random((npoints,dim))\n",
    "x3=np.random.random((npoints,dim))"
   ]
  },
  {
   "cell_type": "code",
   "execution_count": 4,
   "metadata": {},
   "outputs": [],
   "source": [
    "x12=((x1-x2)**2).sum(axis=1)\n",
    "x13=((x1-x3)**2).sum(axis=1)\n",
    "x23=((x2-x3)**2).sum(axis=1)"
   ]
  },
  {
   "cell_type": "code",
   "execution_count": 5,
   "metadata": {},
   "outputs": [],
   "source": [
    "ndelta=1000\n",
    "\n",
    "D1 = np.random.random((ndelta))\n",
    "D2 = np.random.random((ndelta))\n",
    "D3 = np.random.random((ndelta))"
   ]
  },
  {
   "cell_type": "code",
   "execution_count": 6,
   "metadata": {},
   "outputs": [],
   "source": [
    "Dtot = D1+D2+D3\n",
    "D1 = D1/Dtot\n",
    "D2 = D2/Dtot\n",
    "D3 = D3/Dtot"
   ]
  },
  {
   "cell_type": "code",
   "execution_count": 7,
   "metadata": {},
   "outputs": [],
   "source": [
    "def cft_three_point(x1,x2,x3,D1,D2,D3,coupling=1):\n",
    "    D123=0.5*(D1+D2-D3)\n",
    "    D231=0.5*(D2+D3-D1)\n",
    "    D312=0.5*(D3+D1-D2)\n",
    "    Numerator=np.zeros((npoints,dim))\n",
    "    \n",
    "    x12=((x1-x2)**2).sum(axis=1)\n",
    "    x13=((x1-x3)**2).sum(axis=1)\n",
    "    x23=((x2-x3)**2).sum(axis=1)\n",
    "    Denominator = (x12**D123)*(x23**D231)*(x13**D312)\n",
    "    \n",
    "    for j in range(npoints):\n",
    "        for i in range(dim):\n",
    "            x1x3i = (x1[j][i]-x3[j][i])\n",
    "            x2x3i = (x2[j][i]-x3[j][i])\n",
    "            Numerator[j][i] = ((x1x3i*x23[j])-(x2x3i*x13[j]))/(np.sqrt(x12[j])*np.sqrt(x23[j])*np.sqrt(x13[j]))\n",
    "            Numerator[j][i] = Numerator[j][i]/Denominator[j]\n",
    "    return Numerator"
   ]
  },
  {
   "cell_type": "code",
   "execution_count": 8,
   "metadata": {},
   "outputs": [],
   "source": [
    "def scale_three_point(x1,x2,x3,D1,D2,D3,coupling=1):\n",
    "    \n",
    "    \n",
    "    a=np.random.random()\n",
    "    b=np.random.random()\n",
    "    c=np.random.random()\n",
    "    \n",
    "    x12=((x1-x2)**2).sum(axis=1)\n",
    "    x13=((x1-x3)**2).sum(axis=1)\n",
    "    x23=((x2-x3)**2).sum(axis=1)\n",
    "    \n",
    "    \n",
    "    tot=a+b+c\n",
    "    dtot=D1+D2+D3\n",
    "    a=a*dtot/tot\n",
    "    b=b*dtot/tot\n",
    "    c=c*dtot/tot\n",
    "    Denominator = (x12**a)*(x23**b)*(x13**c)\n",
    "    Numerator=np.zeros((npoints,dim))\n",
    "    \n",
    "    for j in range(npoints):\n",
    "        for i in range(dim):\n",
    "            x1x3i = (x1[j][i]-x3[j][i])\n",
    "            x2x3i = (x2[j][i]-x3[j][i])\n",
    "            Numerator[j][i] = ((x1x3i*x23[j])-(x2x3i*x13[j]))/(np.sqrt(x12[j])*np.sqrt(x23[j])*np.sqrt(x13[j]))\n",
    "            Numerator[j][i] = Numerator[j][i]/Denominator[j]\n",
    "    return Numerator \n",
    "    \n",
    "    \n",
    "    "
   ]
  },
  {
   "cell_type": "code",
   "execution_count": 9,
   "metadata": {},
   "outputs": [],
   "source": [
    "X=[]\n",
    "Y=[]\n",
    "\n",
    "\n",
    "\n",
    "for i in range(ndelta):\n",
    "    d1=D1[i]*np.ones((npoints))\n",
    "    d2=D2[i]*np.ones((npoints))\n",
    "    d3=D3[i]*np.ones((npoints))\n",
    "    cft=cft_three_point(x1,x2,x3,d1,d2,d3)\n",
    "    scale=scale_three_point(x1,x2,x3,d1,d2,d3)\n",
    "    \n",
    "    cft=np.hsplit(cft,dim)\n",
    "    scale=np.hsplit(scale,dim)\n",
    "    \n",
    "    X.append([x12,x23,x13,D1,D2,D3,np.reshape(cft[0],npoints),np.reshape(cft[1],npoints),np.reshape(cft[2],npoints)])   \n",
    "    Y.append([0])  \n",
    "    \n",
    "    X.append([x12,x23,x13,D1,D2,D3,np.reshape(scale[0],npoints),np.reshape(scale[1],npoints),np.reshape(scale[2],npoints)])   \n",
    "    Y.append([1])\n",
    "    \n",
    "    del(d1,d2,d3,cft,scale)"
   ]
  },
  {
   "cell_type": "code",
   "execution_count": 10,
   "metadata": {},
   "outputs": [],
   "source": [
    "X=np.array(X)\n",
    "Y=np.array(Y)"
   ]
  },
  {
   "cell_type": "code",
   "execution_count": 11,
   "metadata": {},
   "outputs": [],
   "source": [
    "X = X.reshape(X.shape[0], (6+dim)*npoints)\n",
    "data = np.concatenate((X,Y,),axis=1)"
   ]
  },
  {
   "cell_type": "code",
   "execution_count": 12,
   "metadata": {},
   "outputs": [],
   "source": [
    "import pickle\n",
    "pickle.dump(data, open(r'C:\\Users\\Aditya\\Desktop\\ML Project\\Training Data\\Spin.bin', \"wb\"))"
   ]
  },
  {
   "cell_type": "code",
   "execution_count": 13,
   "metadata": {},
   "outputs": [],
   "source": [
    "del(data)"
   ]
  },
  {
   "cell_type": "code",
   "execution_count": null,
   "metadata": {},
   "outputs": [],
   "source": []
  }
 ],
 "metadata": {
  "kernelspec": {
   "display_name": "Python 3",
   "language": "python",
   "name": "python3"
  },
  "language_info": {
   "codemirror_mode": {
    "name": "ipython",
    "version": 3
   },
   "file_extension": ".py",
   "mimetype": "text/x-python",
   "name": "python",
   "nbconvert_exporter": "python",
   "pygments_lexer": "ipython3",
   "version": "3.7.9"
  }
 },
 "nbformat": 4,
 "nbformat_minor": 4
}
