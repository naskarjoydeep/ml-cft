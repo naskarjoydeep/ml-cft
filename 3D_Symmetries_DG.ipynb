{
 "cells": [
  {
   "cell_type": "code",
   "execution_count": 1,
   "metadata": {},
   "outputs": [],
   "source": [
    "import numpy as np\n",
    "import pickle\n"
   ]
  },
  {
   "cell_type": "code",
   "execution_count": 2,
   "metadata": {},
   "outputs": [],
   "source": [
    "sample_size=100000\n",
    "num=25"
   ]
  },
  {
   "cell_type": "code",
   "execution_count": 3,
   "metadata": {},
   "outputs": [],
   "source": [
    "X=[]\n",
    "Y=[]\n",
    "\n",
    "for sample in range(sample_size):\n",
    "    u=-1.+2*np.random.random((num))\n",
    "    v=-1.+2.*np.random.random((num))\n",
    "    w=-1.+2.*np.random.random((num))\n",
    "    u2=-1.+2.*np.random.random((num))\n",
    "    v2=-1.+2.*np.random.random((num))\n",
    "    w2=-1.+2.*np.random.random((num))\n",
    "    X.append([u,v,w,u,v,-w])\n",
    "    Y.append([0])\n",
    "    X.append([u,v,w,-u,-v,-w])\n",
    "    Y.append([1])\n",
    "    X.append([u,v,w,u2,v2,w2])\n",
    "    Y.append([2])\n",
    "    "
   ]
  },
  {
   "cell_type": "code",
   "execution_count": 4,
   "metadata": {},
   "outputs": [],
   "source": [
    "X=np.array(X)\n",
    "Y=np.array(Y)"
   ]
  },
  {
   "cell_type": "code",
   "execution_count": 5,
   "metadata": {},
   "outputs": [],
   "source": [
    "X = X.reshape(X.shape[0], 6*num)\n",
    "data = np.concatenate((X,Y,),axis=1)"
   ]
  },
  {
   "cell_type": "code",
   "execution_count": 6,
   "metadata": {},
   "outputs": [],
   "source": [
    "pickle.dump(data, open(r'C:\\Users\\Aditya\\Desktop\\ML Project\\Training Data\\3D_Symmetries.bin', \"wb\"))"
   ]
  },
  {
   "cell_type": "code",
   "execution_count": null,
   "metadata": {},
   "outputs": [],
   "source": []
  }
 ],
 "metadata": {
  "kernelspec": {
   "display_name": "Python 3",
   "language": "python",
   "name": "python3"
  },
  "language_info": {
   "codemirror_mode": {
    "name": "ipython",
    "version": 3
   },
   "file_extension": ".py",
   "mimetype": "text/x-python",
   "name": "python",
   "nbconvert_exporter": "python",
   "pygments_lexer": "ipython3",
   "version": "3.7.9"
  }
 },
 "nbformat": 4,
 "nbformat_minor": 4
}
