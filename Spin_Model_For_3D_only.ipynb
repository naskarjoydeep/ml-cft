{
 "cells": [
  {
   "cell_type": "code",
   "execution_count": 1,
   "metadata": {},
   "outputs": [
    {
     "name": "stderr",
     "output_type": "stream",
     "text": [
      "Using TensorFlow backend.\n"
     ]
    }
   ],
   "source": [
    "import numpy as np\n",
    "from sklearn.model_selection import train_test_split\n",
    "import keras\n",
    "import sys, os\n",
    "import tensorflow as tf\n",
    "import matplotlib.pyplot as plt\n",
    "import pickle"
   ]
  },
  {
   "cell_type": "code",
   "execution_count": 2,
   "metadata": {},
   "outputs": [],
   "source": [
    "num_classes=2\n",
    "test_size=0.2\n",
    "validation_size=0.5"
   ]
  },
  {
   "cell_type": "code",
   "execution_count": 3,
   "metadata": {},
   "outputs": [],
   "source": [
    "data= pickle.load(open(r\"C:\\Users\\Aditya\\Desktop\\ML Project\\Training Data\\Spin.bin\", \"rb\"))\n",
    "l= np.size(data)\n",
    "l=np.shape(data)\n",
    "X=data[:,0:(l[1]-1)]\n",
    "np.shape(X)\n",
    "Y=data[:,l[1]-1]\n",
    "del(data)"
   ]
  },
  {
   "cell_type": "code",
   "execution_count": 4,
   "metadata": {},
   "outputs": [
    {
     "name": "stdout",
     "output_type": "stream",
     "text": [
      "X_train shape: (1600, 9000)\n",
      "Y_train shape: (1600, 2)\n",
      "X_test shape: (200, 9000)\n",
      "Y_test shape: (200, 2)\n",
      "X_val shape: (200, 9000)\n",
      "Y_val shape: (200, 2)\n"
     ]
    }
   ],
   "source": [
    "\n",
    "X_train, X_test, Y_train, Y_test=\\\n",
    "         train_test_split(X,Y,test_size=test_size,train_size=1-test_size)\n",
    "\n",
    "X_test, X_val, Y_test, Y_val=\\\n",
    "         train_test_split(X_test,Y_test,test_size=validation_size,train_size=1-validation_size)\n",
    "\n",
    "Y_train=keras.utils.to_categorical(Y_train)\n",
    "Y_test=keras.utils.to_categorical(Y_test)\n",
    "Y_val=keras.utils.to_categorical(Y_val)\n",
    "\n",
    "\n",
    "del(X,Y)\n",
    "\n",
    "print(\"X_train shape:\", X_train.shape)\n",
    "print(\"Y_train shape:\", Y_train.shape)\n",
    "print(\"X_test shape:\", X_test.shape)\n",
    "print(\"Y_test shape:\", Y_test.shape)\n",
    "print(\"X_val shape:\", X_val.shape)\n",
    "print(\"Y_val shape:\", Y_val.shape)\n",
    "\n"
   ]
  },
  {
   "cell_type": "code",
   "execution_count": 5,
   "metadata": {},
   "outputs": [
    {
     "data": {
      "text/plain": [
       "9000"
      ]
     },
     "execution_count": 5,
     "metadata": {},
     "output_type": "execute_result"
    }
   ],
   "source": [
    "from keras.models import Sequential\n",
    "from keras.layers import Dense, Dropout\n",
    "\n",
    "layer_one=40\n",
    "layer_two=10\n",
    "np.shape(X_train)[1]"
   ]
  },
  {
   "cell_type": "code",
   "execution_count": 133,
   "metadata": {},
   "outputs": [
    {
     "name": "stdout",
     "output_type": "stream",
     "text": [
      "Model architecture created successfully\n"
     ]
    }
   ],
   "source": [
    "def create_DNN():\n",
    "    model = Sequential()\n",
    "    model.add(Dense(layer_one,input_shape=(np.shape(X_train)[1],),activation='relu'))\n",
    "    model.add(Dense(layer_two, activation='sigmoid'))\n",
    "    model.add(Dropout(0.33))\n",
    "    model.add(Dense(num_classes,activation='softmax'))\n",
    "    return model\n",
    "\n",
    "print('Model architecture created successfully')"
   ]
  },
  {
   "cell_type": "code",
   "execution_count": 130,
   "metadata": {},
   "outputs": [
    {
     "name": "stdout",
     "output_type": "stream",
     "text": [
      "Model compiled successfully and ready to be trained\n"
     ]
    }
   ],
   "source": [
    "def compile_model(optimizer=keras.optimizers.adam()):\n",
    "    ## create the model\n",
    "    model = create_DNN()\n",
    "    model.compile(loss=keras.losses.binary_crossentropy,\\\n",
    "                  optimizer=optimizer, metrics = ['accuracy'])\n",
    "    return model\n",
    "\n",
    "print('Model compiled successfully and ready to be trained')"
   ]
  },
  {
   "cell_type": "code",
   "execution_count": 134,
   "metadata": {},
   "outputs": [],
   "source": [
    "batch_size=200\n",
    "epochs=10\n",
    "\n",
    "##create the DNN\n",
    "model_DNN = compile_model()"
   ]
  },
  {
   "cell_type": "code",
   "execution_count": 135,
   "metadata": {},
   "outputs": [
    {
     "name": "stdout",
     "output_type": "stream",
     "text": [
      "Train on 1600 samples, validate on 200 samples\n",
      "Epoch 1/10\n",
      "1600/1600 [==============================] - 0s 178us/step - loss: 0.7089 - accuracy: 0.5825 - val_loss: 0.5306 - val_accuracy: 0.5100\n",
      "Epoch 2/10\n",
      "1600/1600 [==============================] - 0s 94us/step - loss: 0.5254 - accuracy: 0.7981 - val_loss: 0.4232 - val_accuracy: 1.0000\n",
      "Epoch 3/10\n",
      "1600/1600 [==============================] - 0s 102us/step - loss: 0.4357 - accuracy: 0.8631 - val_loss: 0.3927 - val_accuracy: 1.0000\n",
      "Epoch 4/10\n",
      "1600/1600 [==============================] - 0s 99us/step - loss: 0.4199 - accuracy: 0.8656 - val_loss: 0.3760 - val_accuracy: 1.0000\n",
      "Epoch 5/10\n",
      "1600/1600 [==============================] - 0s 90us/step - loss: 0.4078 - accuracy: 0.8981 - val_loss: 0.3602 - val_accuracy: 1.0000\n",
      "Epoch 6/10\n",
      "1600/1600 [==============================] - 0s 92us/step - loss: 0.3888 - accuracy: 0.9237 - val_loss: 0.3458 - val_accuracy: 1.0000\n",
      "Epoch 7/10\n",
      "1600/1600 [==============================] - 0s 90us/step - loss: 0.3776 - accuracy: 0.9275 - val_loss: 0.3327 - val_accuracy: 1.0000\n",
      "Epoch 8/10\n",
      "1600/1600 [==============================] - 0s 90us/step - loss: 0.3574 - accuracy: 0.9306 - val_loss: 0.3207 - val_accuracy: 1.0000\n",
      "Epoch 9/10\n",
      "1600/1600 [==============================] - 0s 91us/step - loss: 0.3438 - accuracy: 0.9312 - val_loss: 0.3097 - val_accuracy: 1.0000\n",
      "Epoch 10/10\n",
      "1600/1600 [==============================] - 0s 91us/step - loss: 0.3434 - accuracy: 0.9413 - val_loss: 0.2996 - val_accuracy: 1.0000\n"
     ]
    }
   ],
   "source": [
    "history=model_DNN.fit(X_train,Y_train,batch_size=batch_size,epochs=epochs,\\\n",
    "                      verbose=1,validation_data=(X_val,Y_val))"
   ]
  },
  {
   "cell_type": "code",
   "execution_count": 136,
   "metadata": {},
   "outputs": [
    {
     "name": "stdout",
     "output_type": "stream",
     "text": [
      "200/200 [==============================] - 0s 100us/step\n",
      "\n",
      "Test loss: 0.2996106839179993\n",
      "Test accuracy: 1.0\n"
     ]
    },
    {
     "data": {
      "image/png": "[encoded data removed]",
      "text/plain": [
       "<Figure size 432x288 with 1 Axes>"
      ]
     },
     "metadata": {
      "needs_background": "light"
     },
     "output_type": "display_data"
    },
    {
     "data": {
      "image/png": "[encoded data removed]",
      "text/plain": [
       "<Figure size 432x288 with 1 Axes>"
      ]
     },
     "metadata": {
      "needs_background": "light"
     },
     "output_type": "display_data"
    }
   ],
   "source": [
    "score = model_DNN.evaluate(X_test, Y_test, verbose=1)\n",
    "\n",
    "# print performance\n",
    "print()\n",
    "print('Test loss:', score[0])\n",
    "print('Test accuracy:', score[1])\n",
    "\n",
    "\n",
    "plt.plot(history.history['accuracy'])\n",
    "plt.plot(history.history['val_accuracy'])\n",
    "plt.ylabel('model accuracy')\n",
    "plt.xlabel('epoch')\n",
    "plt.legend(['train', 'test'], loc='best')\n",
    "plt.ylim([0,1.1])\n",
    "plt.show()\n",
    "\n",
    "# summarize history for loss\n",
    "plt.plot(history.history['loss'])\n",
    "plt.plot(history.history['val_loss'])\n",
    "plt.ylabel('model loss')\n",
    "plt.xlabel('epoch')\n",
    "plt.legend(['train', 'test'], loc='best')\n",
    "plt.show()"
   ]
  },
  {
   "cell_type": "code",
   "execution_count": null,
   "metadata": {},
   "outputs": [],
   "source": []
  }
 ],
 "metadata": {
  "kernelspec": {
   "display_name": "Python 3",
   "language": "python",
   "name": "python3"
  },
  "language_info": {
   "codemirror_mode": {
    "name": "ipython",
    "version": 3
   },
   "file_extension": ".py",
   "mimetype": "text/x-python",
   "name": "python",
   "nbconvert_exporter": "python",
   "pygments_lexer": "ipython3",
   "version": "3.7.9"
  }
 },
 "nbformat": 4,
 "nbformat_minor": 4
}
