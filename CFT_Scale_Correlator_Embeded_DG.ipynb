{
 "cells": [
  {
   "cell_type": "code",
   "execution_count": 1,
   "metadata": {},
   "outputs": [],
   "source": [
    "import numpy as np\n",
    "import pickle\n"
   ]
  },
  {
   "cell_type": "code",
   "execution_count": 2,
   "metadata": {},
   "outputs": [],
   "source": [
    "npoints=1000\n",
    "ndelta=4000\n",
    "dim=3"
   ]
  },
  {
   "cell_type": "code",
   "execution_count": 4,
   "metadata": {},
   "outputs": [],
   "source": [
    "x1=np.random.random((npoints,dim))\n",
    "x2=np.random.random((npoints,dim))\n",
    "x3=np.random.random((npoints,dim)) \n",
    "\n",
    "temp1 = np.zeros((npoints,1)) + 1\n",
    "temp2 = np.zeros((npoints,1)) \n",
    "\n",
    "def r(array):\n",
    "    return (array*array).sum(axis=1)\n",
    "\n",
    "\n",
    "temp2[:,0] = r(x1)\n",
    "x1 = np.concatenate((temp2,x1),axis=1)\n",
    "x1 = np.concatenate((temp1,x1),axis=1)\n",
    "\n",
    "temp2[:,0] = r(x2)\n",
    "x2 = np.concatenate((temp2,x2),axis=1)\n",
    "x2 = np.concatenate((temp1,x2),axis=1)\n",
    "\n",
    "temp2[:,0] = r(x3)\n",
    "x3 = np.concatenate((temp2,x3),axis=1)\n",
    "x3 = np.concatenate((temp1,x3),axis=1)\n",
    "\n",
    "del(temp1,temp2)\n",
    "\n",
    "D= np.random.random((ndelta)) \n",
    "#Only one delta is taken as for different delta 3 point function will give 0\n",
    "\n",
    "\n",
    "def dot(array1, array2):\n",
    "    return (array1*array2).sum(axis=1)\n",
    "\n",
    "x12 = dot(x1,x2)\n",
    "x23 = dot(x2,x3)\n",
    "x13 = dot(x1,x3)\n",
    "\n",
    "\n",
    "def two_point(x12,D):\n",
    "    return x12**D\n",
    "\n",
    "\n",
    "\n",
    "def cft_three_point(x12,x23,x13,D,coupling=1):\n",
    "    return (x12**D)*(x23**D)*(x13**D)\n",
    "\n",
    "def scale_three_point(x12,x23,x13,D,coupling=1):\n",
    "    a=np.random.random()      \n",
    "    b=np.random.random()\n",
    "    c=np.random.random()\n",
    "    Dtot=D+D+D\n",
    "    tot=a+b+c\n",
    "    a=a*Dtot/tot\n",
    "    b=b*Dtot/tot\n",
    "    c=c*Dtot/tot\n",
    "    return (x12**a)*(x23**b)*(x13**c)"
   ]
  },
  {
   "cell_type": "code",
   "execution_count": 5,
   "metadata": {},
   "outputs": [],
   "source": [
    "X=[]\n",
    "Y=[]\n",
    "num_classes=2 ## conformal invariant or not\n",
    "\n",
    "## create the dataset\n",
    "for i in range(ndelta):\n",
    "    d1=D[i]*np.ones((npoints))\n",
    "    coupling=np.random.random()*np.ones((npoints))\n",
    "    d1=two_point(x12,d1)\n",
    "    d2=two_point(x23,d1)\n",
    "    d3=two_point(x13,d1)\n",
    "    cft=cft_three_point(x12,x23,x13,d1,coupling)\n",
    "    scale=scale_three_point(x12,x23,x13,d1,coupling)\n",
    "    X.append([x12,x23,x13,d1,d2,d3,cft])\n",
    "    Y.append([1])\n",
    "    X.append([x12,x23,x13,d1,d2,d3,scale])\n",
    "    Y.append([-1])\n",
    "    del(d1,d2,d3,cft,scale)"
   ]
  },
  {
   "cell_type": "code",
   "execution_count": 6,
   "metadata": {},
   "outputs": [],
   "source": [
    "X=np.array(X)\n",
    "Y=np.array(Y)"
   ]
  },
  {
   "cell_type": "code",
   "execution_count": 7,
   "metadata": {},
   "outputs": [],
   "source": [
    "X = X.reshape(X.shape[0], 7*npoints)\n",
    "data = np.concatenate((X,Y,),axis=1)"
   ]
  },
  {
   "cell_type": "code",
   "execution_count": 8,
   "metadata": {},
   "outputs": [],
   "source": [
    "pickle.dump(data, open(r'C:\\Users\\Aditya\\Desktop\\ML Project\\Training Data\\CFT_Scale_Correlator_Embeded.bin', \"wb\"))"
   ]
  },
  {
   "cell_type": "code",
   "execution_count": 9,
   "metadata": {},
   "outputs": [],
   "source": [
    "del(data)"
   ]
  },
  {
   "cell_type": "code",
   "execution_count": null,
   "metadata": {},
   "outputs": [],
   "source": []
  }
 ],
 "metadata": {
  "kernelspec": {
   "display_name": "Python 3",
   "language": "python",
   "name": "python3"
  },
  "language_info": {
   "codemirror_mode": {
    "name": "ipython",
    "version": 3
   },
   "file_extension": ".py",
   "mimetype": "text/x-python",
   "name": "python",
   "nbconvert_exporter": "python",
   "pygments_lexer": "ipython3",
   "version": "3.7.9"
  }
 },
 "nbformat": 4,
 "nbformat_minor": 4
}
