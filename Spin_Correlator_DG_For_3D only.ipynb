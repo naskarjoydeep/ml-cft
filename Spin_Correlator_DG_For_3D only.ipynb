{
 "cells": [
  {
   "cell_type": "code",
   "execution_count": 1,
   "metadata": {},
   "outputs": [],
   "source": [
    "import numpy as np"
   ]
  },
  {
   "cell_type": "code",
   "execution_count": 2,
   "metadata": {},
   "outputs": [],
   "source": [
    "npoints=1000\n",
    "dim=3"
   ]
  },
  {
   "cell_type": "code",
   "execution_count": 3,
   "metadata": {},
   "outputs": [],
   "source": [
    "x1=np.random.random((npoints,dim))\n",
    "x2=np.random.random((npoints,dim))\n",
    "x3=np.random.random((npoints,dim))"
   ]
  },
  {
   "cell_type": "code",
   "execution_count": 4,
   "metadata": {},
   "outputs": [],
   "source": [
    "x12=((x1-x2)**2).sum(axis=1)\n",
    "x13=((x1-x3)**2).sum(axis=1)\n",
    "x23=((x2-x3)**2).sum(axis=1)"
   ]
  },
  {
   "cell_type": "code",
   "execution_count": 5,
   "metadata": {},
   "outputs": [],
   "source": [
    "ndelta=5000\n",
    "D = np.random.random((ndelta))"
   ]
  },
  {
   "cell_type": "code",
   "execution_count": 6,
   "metadata": {},
   "outputs": [],
   "source": [
    "def two_point(x12,D):\n",
    "    return x12**D"
   ]
  },
  {
   "cell_type": "code",
   "execution_count": 7,
   "metadata": {},
   "outputs": [],
   "source": [
    "def ICFT(x1,x2):\n",
    "    result = np.zeros((npoints,dim,dim))\n",
    "    def CD(i,j):\n",
    "        if (i==j):\n",
    "            return 1\n",
    "        else:\n",
    "            return 0\n",
    "    \n",
    "    for i in range(npoints):\n",
    "        for j in range(dim):\n",
    "            for k in range (dim):\n",
    "                result[i,j,k]=CD(j,k)- (2*(x1[i,j]-x2[i,j])*(x1[i,k]-x2[i,k]))/x12[i]\n",
    "    result = np.reshape(result,(npoints,dim*dim))\n",
    "    return result"
   ]
  },
  {
   "cell_type": "code",
   "execution_count": 8,
   "metadata": {},
   "outputs": [],
   "source": [
    "def IS(x1,x2):\n",
    "    result = np.zeros((npoints,dim,dim))\n",
    "    def CD(i,j):\n",
    "        if (i==j):\n",
    "            return 1\n",
    "        else:\n",
    "            return 0\n",
    "    alpha = np.random.uniform(-3,-1)\n",
    "    for i in range(npoints):\n",
    "        for j in range(dim):\n",
    "            for k in range (dim):\n",
    "                result[i,j,k]=CD(j,k)+ (alpha*(x1[i,j]-x2[i,j])*(x1[i,k]-x2[i,k]))/x12[i]\n",
    "    result = np.reshape(result,(npoints,dim*dim))\n",
    "    return result"
   ]
  },
  {
   "cell_type": "code",
   "execution_count": 9,
   "metadata": {},
   "outputs": [],
   "source": [
    "def f1f2CFT(x1,x2,D):\n",
    "    for i in range(npoints):        \n",
    "        d=D[i]*np.ones(dim*dim)\n",
    "    result = ICFT(x1,x2)/d\n",
    "    return result"
   ]
  },
  {
   "cell_type": "code",
   "execution_count": 10,
   "metadata": {},
   "outputs": [],
   "source": [
    "def f1f2S(x1,x2,D):\n",
    "    for i in range(npoints):        \n",
    "        d=D[i]*np.ones(dim*dim)\n",
    "    result = IS(x1,x2)/d\n",
    "    return result"
   ]
  },
  {
   "cell_type": "code",
   "execution_count": 11,
   "metadata": {},
   "outputs": [],
   "source": [
    "def cft_three_point(x1,x2,x3,D):\n",
    "    Numerator=np.zeros((npoints,dim))\n",
    "    \n",
    "    x12=((x1-x2)**2).sum(axis=1)\n",
    "    x13=((x1-x3)**2).sum(axis=1)\n",
    "    x23=((x2-x3)**2).sum(axis=1)\n",
    "    Denominator = (x12**D)*(x23**D)*(x13**D)\n",
    "    \n",
    "    for j in range(npoints):\n",
    "        for i in range(dim):\n",
    "            x1x3i = (x1[j][i]-x3[j][i])\n",
    "            x2x3i = (x2[j][i]-x3[j][i])\n",
    "            Numerator[j][i] = ((x1x3i*x23[j])-(x2x3i*x13[j]))/(np.sqrt(x12[j])*np.sqrt(x23[j])*np.sqrt(x13[j]))\n",
    "            Numerator[j][i] = Numerator[j][i]/Denominator[j]\n",
    "    return Numerator"
   ]
  },
  {
   "cell_type": "code",
   "execution_count": 12,
   "metadata": {},
   "outputs": [],
   "source": [
    "def scale_three_point(x1,x2,x3,D):\n",
    "    \n",
    "    \n",
    "    a=np.random.random()\n",
    "    b=np.random.random()\n",
    "    c=np.random.random()\n",
    "    \n",
    "    x12=((x1-x2)**2).sum(axis=1)\n",
    "    x13=((x1-x3)**2).sum(axis=1)\n",
    "    x23=((x2-x3)**2).sum(axis=1)\n",
    "    \n",
    "    \n",
    "    tot=a+b+c\n",
    "    dtot=3*D\n",
    "    a=a*dtot/tot\n",
    "    b=b*dtot/tot\n",
    "    c=c*dtot/tot\n",
    "    Denominator = (x12**a)*(x23**b)*(x13**c)\n",
    "    Numerator=np.zeros((npoints,dim))\n",
    "    \n",
    "    for j in range(npoints):\n",
    "        for i in range(dim):\n",
    "            x1x3i = (x1[j][i]-x3[j][i])\n",
    "            x2x3i = (x2[j][i]-x3[j][i])\n",
    "            Numerator[j][i] = ((x1x3i*x23[j])-(x2x3i*x13[j]))/(np.sqrt(x12[j])*np.sqrt(x23[j])*np.sqrt(x13[j]))\n",
    "            Numerator[j][i] = Numerator[j][i]/Denominator[j]\n",
    "    return Numerator \n",
    "    \n",
    "    \n",
    "    "
   ]
  },
  {
   "cell_type": "code",
   "execution_count": 14,
   "metadata": {},
   "outputs": [],
   "source": [
    "X=[]\n",
    "Y=[]\n",
    "\n",
    "\n",
    "\n",
    "for i in range(ndelta):\n",
    "    \n",
    "    d=D[i]*np.ones((npoints))\n",
    "    d1=two_point(x12,d)\n",
    "    \n",
    "\n",
    "    cft=cft_three_point(x1,x2,x3,d)\n",
    "    scale=scale_three_point(x1,x2,x3,d)\n",
    "    \n",
    "    phicft=f1f2CFT(x1,x2,d)\n",
    "    phicft=np.array(phicft)\n",
    "    phicft=np.reshape(phicft,(9,npoints))\n",
    "    \n",
    "    phis=f1f2S(x1,x2,d)\n",
    "    phis=np.array(phis)\n",
    "    phis=np.reshape(phis,(9,npoints))\n",
    "    \n",
    "    cft=np.hsplit(cft,dim)\n",
    "    scale=np.hsplit(scale,dim)\n",
    "    \n",
    "    X.append([x12,x23,x13,d1,phicft[0,:],phicft[1,:],phicft[2,:],phicft[3,:],phicft[4,:],phicft[5,:],phicft[6,:],phicft[7,:],phicft[8,:],np.reshape(cft[0],npoints),np.reshape(cft[1],npoints),np.reshape(cft[2],npoints)])   \n",
    "    Y.append([0])  \n",
    "    \n",
    "    X.append([x12,x23,x13,d1,phis[0,:],phis[1,:],phis[2,:],phis[3,:],phis[4,:],phis[5,:],phis[6,:],phis[7,:],phis[8,:],np.reshape(scale[0],npoints),np.reshape(scale[1],npoints),np.reshape(scale[2],npoints)])   \n",
    "    Y.append([1])\n",
    "    \n",
    "    del(d1,cft,scale,phicft,phis)"
   ]
  },
  {
   "cell_type": "code",
   "execution_count": 15,
   "metadata": {},
   "outputs": [],
   "source": [
    "X=np.array(X)\n",
    "Y=np.array(Y)"
   ]
  },
  {
   "cell_type": "code",
   "execution_count": 18,
   "metadata": {},
   "outputs": [],
   "source": [
    "X = X.reshape(X.shape[0], ((4+dim*(dim+1))*npoints))\n",
    "data = np.concatenate((X,Y),axis=1)"
   ]
  },
  {
   "cell_type": "code",
   "execution_count": 20,
   "metadata": {},
   "outputs": [],
   "source": [
    "import pickle\n",
    "pickle.dump(data, open(r'C:\\Users\\Aditya\\Desktop\\ML Project\\Training Data\\Spin_Correlator.bin', \"wb\"))"
   ]
  },
  {
   "cell_type": "code",
   "execution_count": 21,
   "metadata": {},
   "outputs": [],
   "source": [
    "del(data)"
   ]
  },
  {
   "cell_type": "code",
   "execution_count": null,
   "metadata": {},
   "outputs": [],
   "source": []
  }
 ],
 "metadata": {
  "kernelspec": {
   "display_name": "Python 3",
   "language": "python",
   "name": "python3"
  },
  "language_info": {
   "codemirror_mode": {
    "name": "ipython",
    "version": 3
   },
   "file_extension": ".py",
   "mimetype": "text/x-python",
   "name": "python",
   "nbconvert_exporter": "python",
   "pygments_lexer": "ipython3",
   "version": "3.6.5"
  }
 },
 "nbformat": 4,
 "nbformat_minor": 4
}
