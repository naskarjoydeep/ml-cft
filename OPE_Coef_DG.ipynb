{
 "cells": [
  {
   "cell_type": "code",
   "execution_count": 18,
   "metadata": {},
   "outputs": [],
   "source": [
    "## training the neural network to do the fourier decomposition\n",
    "import numpy as np\n",
    "import matplotlib.pyplot as plt\n",
    "from scipy.special import hyp2f1"
   ]
  },
  {
   "cell_type": "code",
   "execution_count": 19,
   "metadata": {},
   "outputs": [],
   "source": [
    "## generate functions as data for regression\n",
    "## number: how many functions we need\n",
    "## term_num: number of terms in the block expansion (n=0,1,2,....,term_num)\n",
    "## degree_coeff: the degree of the monomial whose coefficient we need\n",
    "## x_num: number of values of x at which we sample fx\n",
    "def block(n,x):\n",
    "    return hyp2f1(n,n,2*n,x)*(x**n)\n",
    "\n",
    "def generate_functions(number,term_num,n,x_num):\n",
    "    X=[]\n",
    "    Y=[]\n",
    "    x=np.linspace(-0.8,0.8,x_num)\n",
    "    for p in range(number):\n",
    "        an=np.random.random((term_num))\n",
    "        fx=0\n",
    "        for m in range(term_num):\n",
    "            fx+=an[m]*block(m,x)\n",
    "        X.append(fx)\n",
    "        #Y.append(an[n])\n",
    "        Y.append(an[n]*block(n,np.linspace(-0.8,0.8,4)))\n",
    "    X=np.array(X)\n",
    "    Y=np.array(Y)\n",
    "    return X,Y"
   ]
  },
  {
   "cell_type": "code",
   "execution_count": 20,
   "metadata": {},
   "outputs": [
    {
     "name": "stdout",
     "output_type": "stream",
     "text": [
      "dataset generated\n",
      "X.shape: (100000, 100)\n",
      "Y.shape: (100000, 4)\n"
     ]
    }
   ],
   "source": [
    "number=100000\n",
    "term_num=5\n",
    "n=2\n",
    "x_num=100\n",
    "X, Y = generate_functions(number,term_num,n,x_num)\n",
    "print(\"dataset generated\")\n",
    "print(\"X.shape:\", X.shape)\n",
    "print(\"Y.shape:\", Y.shape)"
   ]
  },
  {
   "cell_type": "code",
   "execution_count": 24,
   "metadata": {},
   "outputs": [],
   "source": [
    "X = X.reshape(X.shape[0], x_num)\n",
    "Y = Y.reshape(Y.shape[0], 4)"
   ]
  },
  {
   "cell_type": "code",
   "execution_count": 25,
   "metadata": {},
   "outputs": [],
   "source": [
    "data = np.concatenate((X,Y,),axis=1)"
   ]
  },
  {
   "cell_type": "code",
   "execution_count": 26,
   "metadata": {},
   "outputs": [],
   "source": [
    "import pickle\n",
    "pickle.dump(data, open(r'C:\\Users\\Joydeep\\Documents\\group2\\Training Data\\OPE_Coefficient.bin', \"wb\"))"
   ]
  },
  {
   "cell_type": "code",
   "execution_count": 27,
   "metadata": {},
   "outputs": [],
   "source": [
    "del(data)"
   ]
  },
  {
   "cell_type": "code",
   "execution_count": null,
   "metadata": {},
   "outputs": [],
   "source": []
  }
 ],
 "metadata": {
  "kernelspec": {
   "display_name": "Python 3",
   "language": "python",
   "name": "python3"
  },
  "language_info": {
   "codemirror_mode": {
    "name": "ipython",
    "version": 3
   },
   "file_extension": ".py",
   "mimetype": "text/x-python",
   "name": "python",
   "nbconvert_exporter": "python",
   "pygments_lexer": "ipython3",
   "version": "3.6.5"
  }
 },
 "nbformat": 4,
 "nbformat_minor": 2
}
