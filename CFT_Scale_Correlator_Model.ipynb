{
 "cells": [
  {
   "cell_type": "code",
   "execution_count": 1,
   "metadata": {},
   "outputs": [
    {
     "name": "stderr",
     "output_type": "stream",
     "text": [
      "Using TensorFlow backend.\n"
     ]
    }
   ],
   "source": [
    "import numpy as np\n",
    "from sklearn.model_selection import train_test_split\n",
    "import keras\n",
    "import tensorflow as tf\n",
    "import matplotlib.pyplot as plt\n",
    "import pickle"
   ]
  },
  {
   "cell_type": "code",
   "execution_count": 48,
   "metadata": {},
   "outputs": [],
   "source": [
    "num_classes=2\n",
    "test_size=0.1\n",
    "validation_size=0.5"
   ]
  },
  {
   "cell_type": "code",
   "execution_count": 49,
   "metadata": {},
   "outputs": [],
   "source": [
    "data= pickle.load(open(r\"C:\\Users\\Aditya\\Desktop\\ML Project\\Training Data\\CFT_Scale_Correlator.bin\", \"rb\"))\n",
    "l= np.size(data)\n",
    "l=np.shape(data)\n",
    "X=data[:,0:(l[1]-1)]\n",
    "np.shape(X)\n",
    "Y=data[:,l[1]-1]\n",
    "del(data)"
   ]
  },
  {
   "cell_type": "code",
   "execution_count": 50,
   "metadata": {},
   "outputs": [
    {
     "name": "stdout",
     "output_type": "stream",
     "text": [
      "X_train shape: (9000, 7000)\n",
      "Y_train shape: (9000, 2)\n",
      "X_test shape: (500, 7000)\n",
      "Y_test shape: (500, 2)\n",
      "X_val shape: (500, 7000)\n",
      "Y_val shape: (500, 2)\n"
     ]
    }
   ],
   "source": [
    "\n",
    "X_train, X_test, Y_train, Y_test=\\\n",
    "         train_test_split(X,Y,test_size=test_size,train_size=1-test_size)\n",
    "\n",
    "X_test, X_val, Y_test, Y_val=\\\n",
    "         train_test_split(X_test,Y_test,test_size=validation_size,train_size=1-validation_size)\n",
    "\n",
    "Y_train=keras.utils.to_categorical(Y_train)\n",
    "Y_test=keras.utils.to_categorical(Y_test)\n",
    "Y_val=keras.utils.to_categorical(Y_val)\n",
    "\n",
    "\n",
    "del(X,Y)\n",
    "\n",
    "print(\"X_train shape:\", X_train.shape)\n",
    "print(\"Y_train shape:\", Y_train.shape)\n",
    "print(\"X_test shape:\", X_test.shape)\n",
    "print(\"Y_test shape:\", Y_test.shape)\n",
    "print(\"X_val shape:\", X_val.shape)\n",
    "print(\"Y_val shape:\", Y_val.shape)\n",
    "\n"
   ]
  },
  {
   "cell_type": "code",
   "execution_count": 51,
   "metadata": {},
   "outputs": [
    {
     "data": {
      "text/plain": [
       "7000"
      ]
     },
     "execution_count": 51,
     "metadata": {},
     "output_type": "execute_result"
    }
   ],
   "source": [
    "from keras.models import Sequential\n",
    "from keras.layers import Dense, Dropout\n",
    "\n",
    "layer_one=50\n",
    "layer_two=20\n",
    "np.shape(X_train)[1]"
   ]
  },
  {
   "cell_type": "code",
   "execution_count": 52,
   "metadata": {},
   "outputs": [
    {
     "name": "stdout",
     "output_type": "stream",
     "text": [
      "Model architecture created successfully\n"
     ]
    }
   ],
   "source": [
    "def create_DNN():\n",
    "    model = Sequential()\n",
    "    model.add(Dense(layer_one,input_shape=(np.shape(X_train)[1],),activation='relu'))\n",
    "    model.add(Dense(layer_two, activation='sigmoid'))\n",
    "    model.add(Dropout(0.5))\n",
    "    model.add(Dense(num_classes,activation='softmax'))\n",
    "    return model\n",
    "\n",
    "print('Model architecture created successfully')"
   ]
  },
  {
   "cell_type": "code",
   "execution_count": 53,
   "metadata": {},
   "outputs": [
    {
     "name": "stdout",
     "output_type": "stream",
     "text": [
      "Model compiled successfully and ready to be trained\n"
     ]
    }
   ],
   "source": [
    "def compile_model(optimizer=keras.optimizers.SGD()):\n",
    "    ## create the model\n",
    "    model = create_DNN()\n",
    "    model.compile(loss=keras.losses.binary_crossentropy,\\\n",
    "                  optimizer=optimizer, metrics = ['accuracy'])\n",
    "    return model\n",
    "\n",
    "print('Model compiled successfully and ready to be trained')"
   ]
  },
  {
   "cell_type": "code",
   "execution_count": 54,
   "metadata": {},
   "outputs": [],
   "source": [
    "batch_size=200\n",
    "epochs=10\n",
    "\n",
    "##create the DNN\n",
    "model_DNN = compile_model()"
   ]
  },
  {
   "cell_type": "code",
   "execution_count": 55,
   "metadata": {},
   "outputs": [
    {
     "name": "stdout",
     "output_type": "stream",
     "text": [
      "Train on 9000 samples, validate on 500 samples\n",
      "Epoch 1/10\n",
      "9000/9000 [==============================] - 1s 132us/step - loss: 0.6719 - accuracy: 0.5953 - val_loss: 0.5446 - val_accuracy: 0.9880\n",
      "Epoch 2/10\n",
      "9000/9000 [==============================] - 1s 70us/step - loss: 0.5276 - accuracy: 0.7414 - val_loss: 0.4004 - val_accuracy: 1.0000\n",
      "Epoch 3/10\n",
      "9000/9000 [==============================] - 1s 66us/step - loss: 0.4144 - accuracy: 0.8462 - val_loss: 0.2887 - val_accuracy: 1.0000\n",
      "Epoch 4/10\n",
      "9000/9000 [==============================] - 1s 66us/step - loss: 0.3240 - accuracy: 0.8970 - val_loss: 0.2102 - val_accuracy: 1.0000\n",
      "Epoch 5/10\n",
      "9000/9000 [==============================] - 1s 65us/step - loss: 0.2600 - accuracy: 0.9278 - val_loss: 0.1596 - val_accuracy: 1.0000\n",
      "Epoch 6/10\n",
      "9000/9000 [==============================] - 1s 64us/step - loss: 0.2259 - accuracy: 0.9441 - val_loss: 0.1226 - val_accuracy: 1.0000\n",
      "Epoch 7/10\n",
      "9000/9000 [==============================] - 1s 65us/step - loss: 0.1863 - accuracy: 0.9582 - val_loss: 0.0967 - val_accuracy: 1.0000\n",
      "Epoch 8/10\n",
      "9000/9000 [==============================] - 1s 66us/step - loss: 0.1577 - accuracy: 0.9670 - val_loss: 0.0781 - val_accuracy: 1.0000\n",
      "Epoch 9/10\n",
      "9000/9000 [==============================] - 1s 65us/step - loss: 0.1429 - accuracy: 0.9720 - val_loss: 0.0646 - val_accuracy: 1.0000\n",
      "Epoch 10/10\n",
      "9000/9000 [==============================] - 1s 65us/step - loss: 0.1273 - accuracy: 0.9766 - val_loss: 0.0540 - val_accuracy: 1.0000\n"
     ]
    }
   ],
   "source": [
    "history=model_DNN.fit(X_train,Y_train,batch_size=batch_size,epochs=epochs,\\\n",
    "                      verbose=1,validation_data=(X_val,Y_val))"
   ]
  },
  {
   "cell_type": "code",
   "execution_count": null,
   "metadata": {},
   "outputs": [
    {
     "name": "stdout",
     "output_type": "stream",
     "text": [
      "500/500 [==============================] - 0s 62us/step\n",
      "\n",
      "Test loss: 0.05453978532552719\n",
      "Test accuracy: 1.0\n"
     ]
    }
   ],
   "source": [
    "score = model_DNN.evaluate(X_test, Y_test, verbose=1)\n",
    "\n",
    "# print performance\n",
    "print()\n",
    "print('Test loss:', score[0])\n",
    "print('Test accuracy:', score[1])\n",
    "\n",
    "# look into training history\n",
    "\n",
    "# summarize history for accuracy\n",
    "plt.plot(history.history['accuracy'])\n",
    "plt.plot(history.history['val_accuracy'])\n",
    "plt.ylabel('model accuracy')\n",
    "plt.xlabel('epoch')\n",
    "plt.legend(['train', 'test'], loc='best')\n",
    "plt.show()\n",
    "\n",
    "# summarize history for loss\n",
    "plt.plot(history.history['loss'])\n",
    "plt.plot(history.history['val_loss'])\n",
    "plt.ylabel('model loss')\n",
    "plt.xlabel('epoch')\n",
    "plt.legend(['train', 'test'], loc='best')\n",
    "plt.show()"
   ]
  },
  {
   "cell_type": "code",
   "execution_count": null,
   "metadata": {},
   "outputs": [],
   "source": []
  }
 ],
 "metadata": {
  "kernelspec": {
   "display_name": "Python 3",
   "language": "python",
   "name": "python3"
  },
  "language_info": {
   "codemirror_mode": {
    "name": "ipython",
    "version": 3
   },
   "file_extension": ".py",
   "mimetype": "text/x-python",
   "name": "python",
   "nbconvert_exporter": "python",
   "pygments_lexer": "ipython3",
   "version": "3.7.9"
  }
 },
 "nbformat": 4,
 "nbformat_minor": 4
}
