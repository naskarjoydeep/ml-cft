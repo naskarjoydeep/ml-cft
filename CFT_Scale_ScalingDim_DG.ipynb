{
 "cells": [
  {
   "cell_type": "code",
   "execution_count": 1,
   "metadata": {},
   "outputs": [],
   "source": [
    "import numpy as np\n",
    "import pickle\n"
   ]
  },
  {
   "cell_type": "code",
   "execution_count": 2,
   "metadata": {},
   "outputs": [],
   "source": [
    "npoints=1000\n",
    "dim=3"
   ]
  },
  {
   "cell_type": "code",
   "execution_count": 3,
   "metadata": {},
   "outputs": [],
   "source": [
    "x1=np.random.random((npoints,dim))\n",
    "x2=np.random.random((npoints,dim))\n",
    "x3=np.random.random((npoints,dim))\n",
    "\n",
    "## The three Lorentz invariant inner products\n",
    "\n",
    "x12=((x1-x2)**2).sum(axis=1)\n",
    "x13=((x1-x3)**2).sum(axis=1)\n",
    "x23=((x2-x3)**2).sum(axis=1)\n",
    "\n",
    "## randomly generating 3 conformal dimensions\n",
    "ndelta=5000\n",
    "\n",
    "D1 = np.random.random((ndelta))\n",
    "D2 = np.random.random((ndelta))\n",
    "D3 = np.random.random((ndelta))\n",
    "\n",
    "## rescale them so that they add to 2\n",
    "Dtot = D1+D2+D3\n",
    "D1 = 2.* D1/Dtot\n",
    "D2 = 2.* D2/Dtot\n",
    "D3 = 2.* D3/Dtot"
   ]
  },
  {
   "cell_type": "code",
   "execution_count": 4,
   "metadata": {},
   "outputs": [],
   "source": [
    "## define a function that evaluates the inverse of the CFT\n",
    "## 2-point function, or a SI 2pt function for a given conformal dimension\n",
    "\n",
    "def two_point(x12,D1):\n",
    "    return x12**D1"
   ]
  },
  {
   "cell_type": "code",
   "execution_count": 5,
   "metadata": {},
   "outputs": [],
   "source": [
    "## define a function that evaluates the inverse of the CFT \n",
    "## 3-point scalar function for given data\n",
    "\n",
    "def cft_three_point(x12,x23,x13,D1,D2,D3,coupling=1):\n",
    "    D123=0.5*(D1+D2-D3)\n",
    "    D231=0.5*(D2+D3-D1)\n",
    "    D312=0.5*(D3+D1-D2)\n",
    "    return (x12**D123)*(x23**D231)*(x13**D312)"
   ]
  },
  {
   "cell_type": "code",
   "execution_count": 6,
   "metadata": {},
   "outputs": [],
   "source": [
    "## this function defines a scale invariant 3-point function\n",
    "## given the same data (positions and scaling dimensions)\n",
    "\n",
    "## since the Deltas are rescaled such that they sum to 1\n",
    "## the constraint for scale invariance below is a+b+c=1, recall\n",
    "## Note that our kinematic variables are (x-y)**2 not |x-y|\n",
    "\n",
    "def scale_three_point(x12,x23,x13,D1,D2,D3,coupling=1):\n",
    "    a=1.*np.random.random()\n",
    "    b=1.*np.random.random()\n",
    "    c=1.-(a+b)\n",
    "    return (x12**a)*(x23**b)*(x13**c)"
   ]
  },
  {
   "cell_type": "code",
   "execution_count": 7,
   "metadata": {},
   "outputs": [],
   "source": [
    "X=[]\n",
    "Y=[]\n",
    "\n",
    "## create the dataset\n",
    "## since the overall function is undetermined upto\n",
    "## a coupling we also let the coupling fluctuate randomly\n",
    "## for every choice of Delta1, Delta2, Delta3\n",
    "for i in range(ndelta):\n",
    "    d1=D1[i]*np.ones((npoints))\n",
    "    d2=D2[i]*np.ones((npoints))\n",
    "    d3=D3[i]*np.ones((npoints))\n",
    "    coupling=np.random.random()*np.ones((npoints))\n",
    "    d1=two_point(x12,d1)\n",
    "    d2=two_point(x23,d2)\n",
    "    d3=two_point(x13,d3)\n",
    "    cft=cft_three_point(x12,x23,x13,d1,d2,d3,coupling)\n",
    "    coupling=np.random.random()*np.ones((npoints))\n",
    "    scale=scale_three_point(x12,x23,x13,d1,d2,d3,coupling)\n",
    "    X.append([x12,x23,x13,d1,d2,d3,cft])\n",
    "    Y.append([1])\n",
    "    X.append([x12,x23,x13,d1,d2,d3,scale])\n",
    "    Y.append([-1])\n",
    "    del(d1,d2,d3,cft,scale)"
   ]
  },
  {
   "cell_type": "code",
   "execution_count": 8,
   "metadata": {},
   "outputs": [],
   "source": [
    "X=np.array(X)\n",
    "Y=np.array(Y)"
   ]
  },
  {
   "cell_type": "code",
   "execution_count": 9,
   "metadata": {},
   "outputs": [],
   "source": [
    "X = X.reshape(X.shape[0], 7*npoints)\n",
    "data = np.concatenate((X,Y,),axis=1)"
   ]
  },
  {
   "cell_type": "code",
   "execution_count": 11,
   "metadata": {},
   "outputs": [],
   "source": [
    "pickle.dump(data, open(r'C:\\Users\\Aditya\\Desktop\\ML Project\\Training Data\\CFT_Scale_ScalingDim.bin', \"wb\"))"
   ]
  },
  {
   "cell_type": "code",
   "execution_count": 12,
   "metadata": {},
   "outputs": [],
   "source": [
    "del(data)"
   ]
  },
  {
   "cell_type": "code",
   "execution_count": null,
   "metadata": {},
   "outputs": [],
   "source": []
  }
 ],
 "metadata": {
  "kernelspec": {
   "display_name": "Python 3",
   "language": "python",
   "name": "python3"
  },
  "language_info": {
   "codemirror_mode": {
    "name": "ipython",
    "version": 3
   },
   "file_extension": ".py",
   "mimetype": "text/x-python",
   "name": "python",
   "nbconvert_exporter": "python",
   "pygments_lexer": "ipython3",
   "version": "3.7.9"
  }
 },
 "nbformat": 4,
 "nbformat_minor": 4
}
