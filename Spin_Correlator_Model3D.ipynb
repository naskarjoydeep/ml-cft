{
 "cells": [
  {
   "cell_type": "code",
   "execution_count": 1,
   "metadata": {},
   "outputs": [
    {
     "name": "stderr",
     "output_type": "stream",
     "text": [
      "Using TensorFlow backend.\n"
     ]
    }
   ],
   "source": [
    "import numpy as np\n",
    "from sklearn.model_selection import train_test_split\n",
    "import keras\n",
    "import sys, os\n",
    "import tensorflow as tf\n",
    "import matplotlib.pyplot as plt\n",
    "import pickle"
   ]
  },
  {
   "cell_type": "code",
   "execution_count": 2,
   "metadata": {},
   "outputs": [],
   "source": [
    "num_classes=2\n",
    "test_size=0.2\n",
    "validation_size=0.5"
   ]
  },
  {
   "cell_type": "code",
   "execution_count": 3,
   "metadata": {},
   "outputs": [],
   "source": [
    "data= pickle.load(open(r\"C:\\Users\\Aditya\\Desktop\\ML Project\\Training Data\\Spin_Correlator.bin\", \"rb\"))\n",
    "l= np.size(data)\n",
    "l=np.shape(data)\n",
    "X=data[:,0:(l[1]-1)]\n",
    "np.shape(X)\n",
    "Y=data[:,l[1]-1]\n",
    "del(data)"
   ]
  },
  {
   "cell_type": "code",
   "execution_count": 4,
   "metadata": {},
   "outputs": [
    {
     "name": "stdout",
     "output_type": "stream",
     "text": [
      "X_train shape: (8000, 16000)\n",
      "Y_train shape: (8000, 2)\n",
      "X_test shape: (1000, 16000)\n",
      "Y_test shape: (1000, 2)\n",
      "X_val shape: (1000, 16000)\n",
      "Y_val shape: (1000, 2)\n"
     ]
    }
   ],
   "source": [
    "\n",
    "X_train, X_test, Y_train, Y_test=\\\n",
    "         train_test_split(X,Y,test_size=test_size,train_size=1-test_size)\n",
    "\n",
    "X_test, X_val, Y_test, Y_val=\\\n",
    "         train_test_split(X_test,Y_test,test_size=validation_size,train_size=1-validation_size)\n",
    "\n",
    "Y_train=keras.utils.to_categorical(Y_train)\n",
    "Y_test=keras.utils.to_categorical(Y_test)\n",
    "Y_val=keras.utils.to_categorical(Y_val)\n",
    "\n",
    "\n",
    "del(X,Y)\n",
    "\n",
    "print(\"X_train shape:\", X_train.shape)\n",
    "print(\"Y_train shape:\", Y_train.shape)\n",
    "print(\"X_test shape:\", X_test.shape)\n",
    "print(\"Y_test shape:\", Y_test.shape)\n",
    "print(\"X_val shape:\", X_val.shape)\n",
    "print(\"Y_val shape:\", Y_val.shape)\n",
    "\n"
   ]
  },
  {
   "cell_type": "code",
   "execution_count": 20,
   "metadata": {},
   "outputs": [
    {
     "data": {
      "text/plain": [
       "16000"
      ]
     },
     "execution_count": 20,
     "metadata": {},
     "output_type": "execute_result"
    }
   ],
   "source": [
    "from keras.models import Sequential\n",
    "from keras.layers import Dense, Dropout\n",
    "\n",
    "layer_one=60\n",
    "layer_two=30\n",
    "np.shape(X_train)[1]"
   ]
  },
  {
   "cell_type": "code",
   "execution_count": 21,
   "metadata": {},
   "outputs": [
    {
     "name": "stdout",
     "output_type": "stream",
     "text": [
      "Model architecture created successfully\n"
     ]
    }
   ],
   "source": [
    "def create_DNN():\n",
    "    model = Sequential()\n",
    "    model.add(Dense(layer_one,input_shape=(np.shape(X_train)[1],),activation='relu'))\n",
    "    model.add(Dense(layer_two, activation='sigmoid'))\n",
    "    model.add(Dropout(0.5))\n",
    "    model.add(Dense(num_classes,activation='softmax'))\n",
    "    return model\n",
    "\n",
    "print('Model architecture created successfully')"
   ]
  },
  {
   "cell_type": "code",
   "execution_count": 30,
   "metadata": {},
   "outputs": [
    {
     "name": "stdout",
     "output_type": "stream",
     "text": [
      "Model compiled successfully and ready to be trained\n"
     ]
    }
   ],
   "source": [
    "def compile_model(optimizer=keras.optimizers.adam()):\n",
    "    ## create the model\n",
    "    model = create_DNN()\n",
    "    model.compile(loss=keras.losses.binary_crossentropy,\\\n",
    "                  optimizer=optimizer, metrics = ['accuracy'])\n",
    "    return model\n",
    "\n",
    "print('Model compiled successfully and ready to be trained')"
   ]
  },
  {
   "cell_type": "code",
   "execution_count": 31,
   "metadata": {},
   "outputs": [],
   "source": [
    "batch_size=200\n",
    "epochs=25\n",
    "\n",
    "##create the DNN\n",
    "model_DNN = compile_model()"
   ]
  },
  {
   "cell_type": "code",
   "execution_count": 32,
   "metadata": {},
   "outputs": [
    {
     "name": "stdout",
     "output_type": "stream",
     "text": [
      "Train on 8000 samples, validate on 1000 samples\n",
      "Epoch 1/25\n",
      "8000/8000 [==============================] - 2s 198us/step - loss: 0.7140 - accuracy: 0.5648 - val_loss: 0.6180 - val_accuracy: 0.6720\n",
      "Epoch 2/25\n",
      "8000/8000 [==============================] - 1s 175us/step - loss: 0.6587 - accuracy: 0.5968 - val_loss: 0.5913 - val_accuracy: 0.8010\n",
      "Epoch 3/25\n",
      "8000/8000 [==============================] - 1s 175us/step - loss: 0.5994 - accuracy: 0.6578 - val_loss: 0.5448 - val_accuracy: 0.7940\n",
      "Epoch 4/25\n",
      "8000/8000 [==============================] - 1s 175us/step - loss: 0.5914 - accuracy: 0.6779 - val_loss: 0.5337 - val_accuracy: 0.8210\n",
      "Epoch 5/25\n",
      "8000/8000 [==============================] - 1s 180us/step - loss: 0.5753 - accuracy: 0.6906 - val_loss: 0.5009 - val_accuracy: 0.7780\n",
      "Epoch 6/25\n",
      "8000/8000 [==============================] - 1s 176us/step - loss: 0.5365 - accuracy: 0.7216 - val_loss: 0.4943 - val_accuracy: 0.7890\n",
      "Epoch 7/25\n",
      "8000/8000 [==============================] - 1s 177us/step - loss: 0.5242 - accuracy: 0.7293 - val_loss: 0.4420 - val_accuracy: 0.8030\n",
      "Epoch 8/25\n",
      "8000/8000 [==============================] - 1s 176us/step - loss: 0.4585 - accuracy: 0.7864 - val_loss: 0.4061 - val_accuracy: 0.8350\n",
      "Epoch 9/25\n",
      "8000/8000 [==============================] - 1s 182us/step - loss: 0.4540 - accuracy: 0.7746 - val_loss: 0.4215 - val_accuracy: 0.7740\n",
      "Epoch 10/25\n",
      "8000/8000 [==============================] - 1s 179us/step - loss: 0.4645 - accuracy: 0.7644 - val_loss: 0.4160 - val_accuracy: 0.7920\n",
      "Epoch 11/25\n",
      "8000/8000 [==============================] - 1s 181us/step - loss: 0.4542 - accuracy: 0.7680 - val_loss: 0.3612 - val_accuracy: 0.8560\n",
      "Epoch 12/25\n",
      "8000/8000 [==============================] - 2s 189us/step - loss: 0.4422 - accuracy: 0.7969 - val_loss: 0.3760 - val_accuracy: 0.8840\n",
      "Epoch 13/25\n",
      "8000/8000 [==============================] - 2s 202us/step - loss: 0.3835 - accuracy: 0.8461 - val_loss: 0.3308 - val_accuracy: 0.8910\n",
      "Epoch 14/25\n",
      "8000/8000 [==============================] - ETA: 0s - loss: 0.3714 - accuracy: 0.83 - 2s 214us/step - loss: 0.3711 - accuracy: 0.8382 - val_loss: 0.3134 - val_accuracy: 0.8720\n",
      "Epoch 15/25\n",
      "8000/8000 [==============================] - 2s 201us/step - loss: 0.3780 - accuracy: 0.8223 - val_loss: 0.2960 - val_accuracy: 0.8790\n",
      "Epoch 16/25\n",
      "8000/8000 [==============================] - 2s 200us/step - loss: 0.3391 - accuracy: 0.8509 - val_loss: 0.2656 - val_accuracy: 0.9110\n",
      "Epoch 17/25\n",
      "8000/8000 [==============================] - 2s 200us/step - loss: 0.3116 - accuracy: 0.8771 - val_loss: 0.1990 - val_accuracy: 0.9440\n",
      "Epoch 18/25\n",
      "8000/8000 [==============================] - 2s 201us/step - loss: 0.2502 - accuracy: 0.9159 - val_loss: 0.1989 - val_accuracy: 0.9470\n",
      "Epoch 19/25\n",
      "8000/8000 [==============================] - 2s 201us/step - loss: 0.3091 - accuracy: 0.8659 - val_loss: 0.2137 - val_accuracy: 0.9400\n",
      "Epoch 20/25\n",
      "8000/8000 [==============================] - 2s 201us/step - loss: 0.2589 - accuracy: 0.9075 - val_loss: 0.1840 - val_accuracy: 0.9480\n",
      "Epoch 21/25\n",
      "8000/8000 [==============================] - 2s 222us/step - loss: 0.2224 - accuracy: 0.9265 - val_loss: 0.1482 - val_accuracy: 0.9560\n",
      "Epoch 22/25\n",
      "8000/8000 [==============================] - 2s 205us/step - loss: 0.2054 - accuracy: 0.9339 - val_loss: 0.1369 - val_accuracy: 0.9650\n",
      "Epoch 23/25\n",
      "8000/8000 [==============================] - 2s 203us/step - loss: 0.1943 - accuracy: 0.9351 - val_loss: 0.1221 - val_accuracy: 0.9620\n",
      "Epoch 24/25\n",
      "8000/8000 [==============================] - 2s 211us/step - loss: 0.1844 - accuracy: 0.9375 - val_loss: 0.1191 - val_accuracy: 0.9620\n",
      "Epoch 25/25\n",
      "8000/8000 [==============================] - 2s 201us/step - loss: 0.2139 - accuracy: 0.9311 - val_loss: 0.1693 - val_accuracy: 0.9490\n"
     ]
    }
   ],
   "source": [
    "history=model_DNN.fit(X_train,Y_train,batch_size=batch_size,epochs=epochs,\\\n",
    "                      verbose=1,validation_data=(X_val,Y_val))"
   ]
  },
  {
   "cell_type": "code",
   "execution_count": 34,
   "metadata": {},
   "outputs": [
    {
     "name": "stdout",
     "output_type": "stream",
     "text": [
      "1000/1000 [==============================] - 0s 142us/step\n",
      "\n",
      "Test loss: 0.16884611570835115\n",
      "Test accuracy: 0.9509999752044678\n"
     ]
    },
    {
     "data": {
      "image/png": "[encoded data removed]",
      "text/plain": [
       "<Figure size 432x288 with 1 Axes>"
      ]
     },
     "metadata": {
      "needs_background": "light"
     },
     "output_type": "display_data"
    },
    {
     "data": {
      "image/png": "[encoded data removed]",
      "text/plain": [
       "<Figure size 432x288 with 1 Axes>"
      ]
     },
     "metadata": {
      "needs_background": "light"
     },
     "output_type": "display_data"
    }
   ],
   "source": [
    "score = model_DNN.evaluate(X_test, Y_test, verbose=1)\n",
    "\n",
    "# print performance\n",
    "print()\n",
    "print('Test loss:', score[0])\n",
    "print('Test accuracy:', score[1])\n",
    "\n",
    "\n",
    "plt.plot(history.history['accuracy'])\n",
    "plt.plot(history.history['val_accuracy'])\n",
    "plt.ylabel('model accuracy')\n",
    "plt.xlabel('epoch')\n",
    "plt.legend(['train', 'test'], loc='best')\n",
    "plt.show()\n",
    "\n",
    "# summarize history for loss\n",
    "plt.plot(history.history['loss'])\n",
    "plt.plot(history.history['val_loss'])\n",
    "plt.ylabel('model loss')\n",
    "plt.xlabel('epoch')\n",
    "plt.legend(['train', 'test'], loc='best')\n",
    "plt.show()"
   ]
  },
  {
   "cell_type": "code",
   "execution_count": null,
   "metadata": {},
   "outputs": [],
   "source": []
  }
 ],
 "metadata": {
  "kernelspec": {
   "display_name": "Python 3",
   "language": "python",
   "name": "python3"
  },
  "language_info": {
   "codemirror_mode": {
    "name": "ipython",
    "version": 3
   },
   "file_extension": ".py",
   "mimetype": "text/x-python",
   "name": "python",
   "nbconvert_exporter": "python",
   "pygments_lexer": "ipython3",
   "version": "3.6.5"
  }
 },
 "nbformat": 4,
 "nbformat_minor": 4
}
