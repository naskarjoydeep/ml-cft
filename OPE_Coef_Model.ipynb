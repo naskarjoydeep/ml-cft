{
 "cells": [
  {
   "cell_type": "code",
   "execution_count": 1,
   "metadata": {},
   "outputs": [
    {
     "name": "stderr",
     "output_type": "stream",
     "text": [
      "Using TensorFlow backend.\n"
     ]
    }
   ],
   "source": [
    "import pandas as pd\n",
    "import sklearn.linear_model as lm\n",
    "import tensorflow as tf\n",
    "import keras\n",
    "from keras import layers\n",
    "from sklearn.model_selection import train_test_split\n",
    "from keras.utils.vis_utils import plot_model"
   ]
  },
  {
   "cell_type": "code",
   "execution_count": 2,
   "metadata": {},
   "outputs": [],
   "source": [
    "def build_model():\n",
    "    model=keras.Sequential([\\\n",
    "        layers.Dense(80,activation='relu',input_shape=[X.shape[1]],name='Input'),\n",
    "        layers.Dense(40,activation='relu',name='Relu'),\n",
    "        layers.Dense(Y.shape[1])],name='Output')\n",
    "    optimizer=keras.optimizers.RMSprop(1e-6)\n",
    "    model.compile(loss='mse',optimizer=optimizer)\n",
    "    print(model.summary())\n",
    "    return model"
   ]
  },
  {
   "cell_type": "code",
   "execution_count": 13,
   "metadata": {},
   "outputs": [],
   "source": [
    "import pickle\n",
    "import numpy as np\n",
    "data= pickle.load(open(r\"C:\\Users\\Joydeep\\Documents\\group2\\Training Data\\OPE_Coefficient.bin\", \"rb\"))\n",
    "l=np.shape(data)\n",
    "X=data[:,0:(l[1]-4)]\n",
    "np.shape(X)\n",
    "Y=data[:,l[1]-4:l[1]]\n",
    "del(data)"
   ]
  },
  {
   "cell_type": "code",
   "execution_count": 16,
   "metadata": {},
   "outputs": [
    {
     "name": "stdout",
     "output_type": "stream",
     "text": [
      "Model: \"Output\"\n",
      "_________________________________________________________________\n",
      "Layer (type)                 Output Shape              Param #   \n",
      "=================================================================\n",
      "Input (Dense)                (None, 80)                8080      \n",
      "_________________________________________________________________\n",
      "Relu (Dense)                 (None, 40)                3240      \n",
      "_________________________________________________________________\n",
      "dense_1 (Dense)              (None, 4)                 164       \n",
      "=================================================================\n",
      "Total params: 11,484\n",
      "Trainable params: 11,484\n",
      "Non-trainable params: 0\n",
      "_________________________________________________________________\n",
      "None\n",
      "Train on 80000 samples, validate on 20000 samples\n",
      "Epoch 1/60\n",
      "80000/80000 [==============================] - 3s 32us/step - loss: 0.9567 - val_loss: 0.3039\n",
      "Epoch 2/60\n",
      "80000/80000 [==============================] - 2s 26us/step - loss: 0.1482 - val_loss: 0.0927\n",
      "Epoch 3/60\n",
      "80000/80000 [==============================] - 2s 26us/step - loss: 0.0842 - val_loss: 0.0801\n",
      "Epoch 4/60\n",
      "80000/80000 [==============================] - 2s 26us/step - loss: 0.0762 - val_loss: 0.0743\n",
      "Epoch 5/60\n",
      "80000/80000 [==============================] - 2s 26us/step - loss: 0.0710 - val_loss: 0.0694\n",
      "Epoch 6/60\n",
      "80000/80000 [==============================] - 2s 26us/step - loss: 0.0662 - val_loss: 0.0647\n",
      "Epoch 7/60\n",
      "80000/80000 [==============================] - 2s 28us/step - loss: 0.0618 - val_loss: 0.0604\n",
      "Epoch 8/60\n",
      "80000/80000 [==============================] - 2s 29us/step - loss: 0.0576 - val_loss: 0.0562\n",
      "Epoch 9/60\n",
      "80000/80000 [==============================] - 2s 27us/step - loss: 0.0533 - val_loss: 0.0517\n",
      "Epoch 10/60\n",
      "80000/80000 [==============================] - 2s 27us/step - loss: 0.0487 - val_loss: 0.0470\n",
      "Epoch 11/60\n",
      "80000/80000 [==============================] - 2s 29us/step - loss: 0.0443 - val_loss: 0.0427\n",
      "Epoch 12/60\n",
      "80000/80000 [==============================] - 2s 27us/step - loss: 0.0402 - val_loss: 0.0387\n",
      "Epoch 13/60\n",
      "80000/80000 [==============================] - 2s 26us/step - loss: 0.0363 - val_loss: 0.0349\n",
      "Epoch 14/60\n",
      "80000/80000 [==============================] - 2s 27us/step - loss: 0.0326 - val_loss: 0.0312\n",
      "Epoch 15/60\n",
      "80000/80000 [==============================] - 2s 30us/step - loss: 0.0291 - val_loss: 0.0277\n",
      "Epoch 16/60\n",
      "80000/80000 [==============================] - 2s 30us/step - loss: 0.0257 - val_loss: 0.0243\n",
      "Epoch 17/60\n",
      "80000/80000 [==============================] - 2s 28us/step - loss: 0.0224 - val_loss: 0.0210\n",
      "Epoch 18/60\n",
      "80000/80000 [==============================] - 2s 27us/step - loss: 0.0192 - val_loss: 0.0179\n",
      "Epoch 19/60\n",
      "80000/80000 [==============================] - 2s 30us/step - loss: 0.0161 - val_loss: 0.0147\n",
      "Epoch 20/60\n",
      "80000/80000 [==============================] - 2s 29us/step - loss: 0.0130 - val_loss: 0.0117\n",
      "Epoch 21/60\n",
      "80000/80000 [==============================] - 2s 30us/step - loss: 0.0103 - val_loss: 0.0092\n",
      "Epoch 22/60\n",
      "80000/80000 [==============================] - 2s 26us/step - loss: 0.0079 - val_loss: 0.0069\n",
      "Epoch 23/60\n",
      "80000/80000 [==============================] - 2s 26us/step - loss: 0.0058 - val_loss: 0.0050\n",
      "Epoch 24/60\n",
      "80000/80000 [==============================] - 2s 29us/step - loss: 0.0041 - val_loss: 0.0033\n",
      "Epoch 25/60\n",
      "80000/80000 [==============================] - 2s 26us/step - loss: 0.0026 - val_loss: 0.0020\n",
      "Epoch 26/60\n",
      "80000/80000 [==============================] - 2s 26us/step - loss: 0.0015 - val_loss: 0.0011\n",
      "Epoch 27/60\n",
      "80000/80000 [==============================] - 2s 26us/step - loss: 7.1814e-04 - val_loss: 4.6024e-04\n",
      "Epoch 28/60\n",
      "80000/80000 [==============================] - 2s 28us/step - loss: 2.9957e-04 - val_loss: 1.9216e-04\n",
      "Epoch 29/60\n",
      "80000/80000 [==============================] - 2s 29us/step - loss: 1.4120e-04 - val_loss: 1.0599e-04\n",
      "Epoch 30/60\n",
      "80000/80000 [==============================] - 2s 28us/step - loss: 8.5601e-05 - val_loss: 7.0141e-05\n",
      "Epoch 31/60\n",
      "80000/80000 [==============================] - 2s 27us/step - loss: 5.8839e-05 - val_loss: 4.9845e-05\n",
      "Epoch 32/60\n",
      "80000/80000 [==============================] - 2s 27us/step - loss: 4.1913e-05 - val_loss: 3.5927e-05\n",
      "Epoch 33/60\n",
      "80000/80000 [==============================] - 2s 31us/step - loss: 3.0308e-05 - val_loss: 2.6400e-05\n",
      "Epoch 34/60\n",
      "80000/80000 [==============================] - 2s 28us/step - loss: 2.2282e-05 - val_loss: 2.0015e-05\n",
      "Epoch 35/60\n",
      "80000/80000 [==============================] - 2s 30us/step - loss: 1.6722e-05 - val_loss: 1.4979e-05\n",
      "Epoch 36/60\n",
      "80000/80000 [==============================] - 2s 31us/step - loss: 1.2843e-05 - val_loss: 1.1738e-05\n",
      "Epoch 37/60\n",
      "80000/80000 [==============================] - 2s 30us/step - loss: 1.0087e-05 - val_loss: 9.6233e-06\n",
      "Epoch 38/60\n",
      "80000/80000 [==============================] - 2s 29us/step - loss: 8.1952e-06 - val_loss: 7.8484e-06\n",
      "Epoch 39/60\n",
      "80000/80000 [==============================] - 2s 28us/step - loss: 6.8524e-06 - val_loss: 6.6226e-06\n",
      "Epoch 40/60\n",
      "80000/80000 [==============================] - 2s 29us/step - loss: 5.8960e-06 - val_loss: 5.8442e-06\n",
      "Epoch 41/60\n",
      "80000/80000 [==============================] - 2s 28us/step - loss: 5.1629e-06 - val_loss: 5.1515e-06\n",
      "Epoch 42/60\n",
      "80000/80000 [==============================] - 2s 31us/step - loss: 4.5932e-06 - val_loss: 4.7363e-06\n",
      "Epoch 43/60\n",
      "80000/80000 [==============================] - 2s 31us/step - loss: 4.1331e-06 - val_loss: 4.1565e-06\n",
      "Epoch 44/60\n",
      "80000/80000 [==============================] - 2s 28us/step - loss: 3.7358e-06 - val_loss: 4.7363e-06\n",
      "Epoch 45/60\n",
      "80000/80000 [==============================] - 2s 30us/step - loss: 3.4014e-06 - val_loss: 3.5790e-06\n",
      "Epoch 46/60\n",
      "80000/80000 [==============================] - 2s 29us/step - loss: 3.1253e-06 - val_loss: 3.4255e-06\n",
      "Epoch 47/60\n",
      "80000/80000 [==============================] - 2s 27us/step - loss: 2.8916e-06 - val_loss: 3.0563e-06\n",
      "Epoch 48/60\n",
      "80000/80000 [==============================] - 2s 26us/step - loss: 2.6844e-06 - val_loss: 2.8556e-06\n",
      "Epoch 49/60\n",
      "80000/80000 [==============================] - 3s 33us/step - loss: 2.5038e-06 - val_loss: 2.7202e-06\n",
      "Epoch 50/60\n",
      "80000/80000 [==============================] - 2s 30us/step - loss: 2.3429e-06 - val_loss: 2.7516e-06\n",
      "Epoch 51/60\n",
      "80000/80000 [==============================] - 2s 29us/step - loss: 2.2025e-06 - val_loss: 2.3974e-06\n",
      "Epoch 52/60\n",
      "80000/80000 [==============================] - 2s 26us/step - loss: 2.0750e-06 - val_loss: 2.2486e-06\n",
      "Epoch 53/60\n",
      "80000/80000 [==============================] - 2s 26us/step - loss: 1.9564e-06 - val_loss: 2.4119e-06\n",
      "Epoch 54/60\n",
      "80000/80000 [==============================] - 2s 25us/step - loss: 1.8547e-06 - val_loss: 2.1523e-06\n",
      "Epoch 55/60\n",
      "80000/80000 [==============================] - 2s 28us/step - loss: 1.7588e-06 - val_loss: 1.9000e-06\n",
      "Epoch 56/60\n",
      "80000/80000 [==============================] - 2s 31us/step - loss: 1.6755e-06 - val_loss: 1.7059e-06\n",
      "Epoch 57/60\n",
      "80000/80000 [==============================] - 2s 29us/step - loss: 1.5981e-06 - val_loss: 1.7625e-06\n",
      "Epoch 58/60\n",
      "80000/80000 [==============================] - 2s 28us/step - loss: 1.5254e-06 - val_loss: 1.6752e-06\n",
      "Epoch 59/60\n",
      "80000/80000 [==============================] - 2s 28us/step - loss: 1.4608e-06 - val_loss: 1.7275e-06\n",
      "Epoch 60/60\n",
      "80000/80000 [==============================] - 3s 32us/step - loss: 1.3979e-06 - val_loss: 1.5761e-06\n"
     ]
    }
   ],
   "source": [
    "EPOCHS=60\n",
    "model=build_model()\n",
    "from keras.utils.vis_utils import plot_model\n",
    "##and plot it\n",
    "plot_model(model, to_file='CBRegressorNN.png', show_shapes=True, show_layer_names=True)\n",
    "# implement early stopping\n",
    "early_stop = keras.callbacks.EarlyStopping(monitor='val_loss', patience=50)\n",
    "history=model.fit(X,Y,epochs=EPOCHS,validation_split=0.2)"
   ]
  },
  {
   "cell_type": "code",
   "execution_count": 21,
   "metadata": {},
   "outputs": [
    {
     "data": {
      "image/png": "[encoded data removed]",
      "text/plain": [
       "<Figure size 432x288 with 1 Axes>"
      ]
     },
     "metadata": {
      "needs_background": "light"
     },
     "output_type": "display_data"
    }
   ],
   "source": [
    "import matplotlib.pyplot as plt\n",
    "plt.plot(history.history['loss'])\n",
    "plt.plot(history.history['val_loss'])\n",
    "plt.ylabel('model loss')\n",
    "plt.xlabel('epoch')\n",
    "plt.legend(['train', 'validation'], loc='best')\n",
    "plt.show()"
   ]
  },
  {
   "cell_type": "code",
   "execution_count": 23,
   "metadata": {},
   "outputs": [],
   "source": [
    "def block(n,x):\n",
    "    return hyp2f1(n,n,2*n,x)*(x**n)\n",
    "\n",
    "def generate_functions(number,term_num,n,x_num):\n",
    "    X=[]\n",
    "    Y=[]\n",
    "    x=np.linspace(-0.8,0.8,x_num)\n",
    "    for p in range(number):\n",
    "        an=np.random.random((term_num))\n",
    "        fx=0\n",
    "        for m in range(term_num):\n",
    "            fx+=an[m]*block(m,x)\n",
    "        X.append(fx)\n",
    "        #Y.append(an[n])\n",
    "        Y.append(an[n]*block(n,np.linspace(-0.8,0.8,4)))\n",
    "    X=np.array(X)\n",
    "    Y=np.array(Y)\n",
    "    return X,Y"
   ]
  },
  {
   "cell_type": "code",
   "execution_count": 27,
   "metadata": {},
   "outputs": [],
   "source": [
    "from scipy.special import hyp2f1"
   ]
  },
  {
   "cell_type": "code",
   "execution_count": 28,
   "metadata": {},
   "outputs": [],
   "source": [
    "\n",
    "term_num=5\n",
    "n=2\n",
    "x_num=100"
   ]
  },
  {
   "cell_type": "code",
   "execution_count": 29,
   "metadata": {},
   "outputs": [
    {
     "data": {
      "image/png": "[encoded data removed]",
      "text/plain": [
       "<Figure size 432x288 with 1 Axes>"
      ]
     },
     "metadata": {
      "needs_background": "light"
     },
     "output_type": "display_data"
    }
   ],
   "source": [
    "X_test, Y_test=generate_functions(200,term_num,n,x_num)\n",
    "Y_pred=model.predict(X_test)\n",
    "x=np.median(Y_test/block(n,np.linspace(-0.8,0.8,4)),axis=1)\n",
    "y=np.median(Y_pred/block(n,np.linspace(-0.8,0.8,4)),axis=1)\n",
    "plt.grid(axis='both')\n",
    "plt.plot([0,1],[0,1],ls='--',c='gray')\n",
    "plt.ylabel('predicted value')\n",
    "plt.xlabel('actual value')\n",
    "plt.xlim(0,1)\n",
    "plt.ylim(0,1)\n",
    "plt.scatter(x,y,s=3)\n",
    "plt.show()"
   ]
  },
  {
   "cell_type": "code",
   "execution_count": null,
   "metadata": {},
   "outputs": [],
   "source": []
  }
 ],
 "metadata": {
  "kernelspec": {
   "display_name": "Python 3",
   "language": "python",
   "name": "python3"
  },
  "language_info": {
   "codemirror_mode": {
    "name": "ipython",
    "version": 3
   },
   "file_extension": ".py",
   "mimetype": "text/x-python",
   "name": "python",
   "nbconvert_exporter": "python",
   "pygments_lexer": "ipython3",
   "version": "3.6.5"
  }
 },
 "nbformat": 4,
 "nbformat_minor": 4
}
