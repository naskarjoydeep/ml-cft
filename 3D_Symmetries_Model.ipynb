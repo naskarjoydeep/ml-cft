{
 "cells": [
  {
   "cell_type": "code",
   "execution_count": 1,
   "metadata": {},
   "outputs": [
    {
     "name": "stderr",
     "output_type": "stream",
     "text": [
      "Using TensorFlow backend.\n"
     ]
    }
   ],
   "source": [
    "import numpy as np\n",
    "from sklearn.model_selection import train_test_split\n",
    "import keras\n",
    "import sys, os\n",
    "import tensorflow as tf\n",
    "import matplotlib.pyplot as plt\n",
    "import pickle"
   ]
  },
  {
   "cell_type": "code",
   "execution_count": 2,
   "metadata": {},
   "outputs": [],
   "source": [
    "num_classes=3\n",
    "test_size=0.1\n",
    "validation_size=0.5"
   ]
  },
  {
   "cell_type": "code",
   "execution_count": 3,
   "metadata": {},
   "outputs": [],
   "source": [
    "data= pickle.load(open(r\"C:\\Users\\Aditya\\Desktop\\ML Project\\Training Data\\3D_Symmetries.bin\", \"rb\"))\n",
    "l= np.size(data)\n",
    "l=np.shape(data)\n",
    "X=data[:,0:(l[1]-1)]\n",
    "np.shape(X)\n",
    "Y=data[:,l[1]-1]\n",
    "del(data)"
   ]
  },
  {
   "cell_type": "code",
   "execution_count": 4,
   "metadata": {},
   "outputs": [
    {
     "name": "stdout",
     "output_type": "stream",
     "text": [
      "X_train shape: (270000, 150)\n",
      "Y_train shape: (270000, 3)\n",
      "X_test shape: (15000, 150)\n",
      "Y_test shape: (15000, 3)\n",
      "X_val shape: (15000, 150)\n",
      "Y_val shape: (15000, 3)\n"
     ]
    }
   ],
   "source": [
    "\n",
    "X_train, X_test, Y_train, Y_test=\\\n",
    "         train_test_split(X,Y,test_size=test_size,train_size=1-test_size)\n",
    "\n",
    "X_test, X_val, Y_test, Y_val=\\\n",
    "         train_test_split(X_test,Y_test,test_size=validation_size,train_size=1-validation_size)\n",
    "\n",
    "Y_train=keras.utils.to_categorical(Y_train)\n",
    "Y_test=keras.utils.to_categorical(Y_test)\n",
    "Y_val=keras.utils.to_categorical(Y_val)\n",
    "\n",
    "\n",
    "del(X,Y)\n",
    "\n",
    "print(\"X_train shape:\", X_train.shape)\n",
    "print(\"Y_train shape:\", Y_train.shape)\n",
    "print(\"X_test shape:\", X_test.shape)\n",
    "print(\"Y_test shape:\", Y_test.shape)\n",
    "print(\"X_val shape:\", X_val.shape)\n",
    "print(\"Y_val shape:\", Y_val.shape)\n",
    "\n"
   ]
  },
  {
   "cell_type": "code",
   "execution_count": 5,
   "metadata": {},
   "outputs": [
    {
     "data": {
      "text/plain": [
       "150"
      ]
     },
     "execution_count": 5,
     "metadata": {},
     "output_type": "execute_result"
    }
   ],
   "source": [
    "from keras.models import Sequential\n",
    "from keras.layers import Dense, Dropout\n",
    "\n",
    "layer_one=50\n",
    "layer_two=20\n",
    "np.shape(X_train)[1]"
   ]
  },
  {
   "cell_type": "code",
   "execution_count": 6,
   "metadata": {},
   "outputs": [
    {
     "name": "stdout",
     "output_type": "stream",
     "text": [
      "Model architecture created successfully\n"
     ]
    }
   ],
   "source": [
    "def create_DNN():\n",
    "    model = Sequential()\n",
    "    model.add(Dense(layer_one,input_shape=(np.shape(X_train)[1],),activation='relu'))\n",
    "    model.add(Dense(layer_two, activation='relu'))\n",
    "    model.add(Dropout(0.5))\n",
    "    model.add(Dense(num_classes,activation='softmax'))\n",
    "    return model\n",
    "\n",
    "print('Model architecture created successfully')"
   ]
  },
  {
   "cell_type": "code",
   "execution_count": 7,
   "metadata": {},
   "outputs": [
    {
     "name": "stdout",
     "output_type": "stream",
     "text": [
      "Model compiled successfully and ready to be trained\n"
     ]
    }
   ],
   "source": [
    "def compile_model(optimizer=keras.optimizers.SGD()):\n",
    "    ## create the model\n",
    "    model = create_DNN()\n",
    "    model.compile(loss=keras.losses.categorical_crossentropy,\\\n",
    "                  optimizer=optimizer, metrics = ['accuracy'])\n",
    "    return model\n",
    "\n",
    "print('Model compiled successfully and ready to be trained')"
   ]
  },
  {
   "cell_type": "code",
   "execution_count": 8,
   "metadata": {},
   "outputs": [],
   "source": [
    "batch_size=100\n",
    "epochs=10\n",
    "\n",
    "##create the DNN\n",
    "model_DNN = compile_model()"
   ]
  },
  {
   "cell_type": "code",
   "execution_count": 9,
   "metadata": {},
   "outputs": [
    {
     "name": "stdout",
     "output_type": "stream",
     "text": [
      "Train on 270000 samples, validate on 15000 samples\n",
      "Epoch 1/10\n",
      "270000/270000 [==============================] - 3s 10us/step - loss: 1.0631 - accuracy: 0.4029 - val_loss: 0.9381 - val_accuracy: 0.5825\n",
      "Epoch 2/10\n",
      "270000/270000 [==============================] - 3s 10us/step - loss: 0.7214 - accuracy: 0.6585 - val_loss: 0.3209 - val_accuracy: 0.9284\n",
      "Epoch 3/10\n",
      "270000/270000 [==============================] - 3s 10us/step - loss: 0.2803 - accuracy: 0.9014 - val_loss: 0.0695 - val_accuracy: 0.9933\n",
      "Epoch 4/10\n",
      "270000/270000 [==============================] - 3s 10us/step - loss: 0.1216 - accuracy: 0.9650 - val_loss: 0.0241 - val_accuracy: 0.9992\n",
      "Epoch 5/10\n",
      "270000/270000 [==============================] - 3s 10us/step - loss: 0.0756 - accuracy: 0.9790 - val_loss: 0.0128 - val_accuracy: 0.9996\n",
      "Epoch 6/10\n",
      "270000/270000 [==============================] - 3s 10us/step - loss: 0.0575 - accuracy: 0.9843 - val_loss: 0.0085 - val_accuracy: 0.9999\n",
      "Epoch 7/10\n",
      "270000/270000 [==============================] - 3s 10us/step - loss: 0.0463 - accuracy: 0.9877 - val_loss: 0.0058 - val_accuracy: 0.9999\n",
      "Epoch 8/10\n",
      "270000/270000 [==============================] - 3s 10us/step - loss: 0.0397 - accuracy: 0.9894 - val_loss: 0.0045 - val_accuracy: 0.9999\n",
      "Epoch 9/10\n",
      "270000/270000 [==============================] - 3s 10us/step - loss: 0.0343 - accuracy: 0.9911 - val_loss: 0.0034 - val_accuracy: 0.9999\n",
      "Epoch 10/10\n",
      "270000/270000 [==============================] - 3s 10us/step - loss: 0.0307 - accuracy: 0.9923 - val_loss: 0.0028 - val_accuracy: 0.9999\n"
     ]
    }
   ],
   "source": [
    "history=model_DNN.fit(X_train,Y_train,batch_size=batch_size,epochs=epochs,\\\n",
    "                      verbose=1,validation_data=(X_val,Y_val))"
   ]
  },
  {
   "cell_type": "code",
   "execution_count": 10,
   "metadata": {},
   "outputs": [
    {
     "name": "stdout",
     "output_type": "stream",
     "text": [
      "15000/15000 [==============================] - 0s 13us/step\n",
      "\n",
      "Test loss: 0.002813233612353603\n",
      "Test accuracy: 0.9999333620071411\n"
     ]
    },
    {
     "data": {
      "image/png": "[encoded data removed]",
      "text/plain": [
       "<Figure size 432x288 with 1 Axes>"
      ]
     },
     "metadata": {
      "needs_background": "light"
     },
     "output_type": "display_data"
    },
    {
     "data": {
      "image/png": "[encoded data removed]",
      "text/plain": [
       "<Figure size 432x288 with 1 Axes>"
      ]
     },
     "metadata": {
      "needs_background": "light"
     },
     "output_type": "display_data"
    }
   ],
   "source": [
    "score = model_DNN.evaluate(X_test, Y_test, verbose=1)\n",
    "\n",
    "# print performance\n",
    "print()\n",
    "print('Test loss:', score[0])\n",
    "print('Test accuracy:', score[1])\n",
    "\n",
    "# look into training history\n",
    "\n",
    "# summarize history for accuracy\n",
    "plt.plot(history.history['accuracy'])\n",
    "plt.plot(history.history['val_accuracy'])\n",
    "plt.ylabel('model accuracy')\n",
    "plt.xlabel('epoch')\n",
    "plt.legend(['train', 'test'], loc='best')\n",
    "plt.show()\n",
    "\n",
    "# summarize history for loss\n",
    "plt.plot(history.history['loss'])\n",
    "plt.plot(history.history['val_loss'])\n",
    "plt.ylabel('model loss')\n",
    "plt.xlabel('epoch')\n",
    "plt.legend(['train', 'test'], loc='best')\n",
    "plt.show()"
   ]
  },
  {
   "cell_type": "code",
   "execution_count": null,
   "metadata": {},
   "outputs": [],
   "source": []
  }
 ],
 "metadata": {
  "kernelspec": {
   "display_name": "Python 3",
   "language": "python",
   "name": "python3"
  },
  "language_info": {
   "codemirror_mode": {
    "name": "ipython",
    "version": 3
   },
   "file_extension": ".py",
   "mimetype": "text/x-python",
   "name": "python",
   "nbconvert_exporter": "python",
   "pygments_lexer": "ipython3",
   "version": "3.7.9"
  }
 },
 "nbformat": 4,
 "nbformat_minor": 4
}
