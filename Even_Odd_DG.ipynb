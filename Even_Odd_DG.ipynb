{
 "cells": [
  {
   "cell_type": "code",
   "execution_count": 16,
   "metadata": {},
   "outputs": [],
   "source": [
    "import numpy as np\n",
    "import pickle"
   ]
  },
  {
   "cell_type": "code",
   "execution_count": 17,
   "metadata": {},
   "outputs": [],
   "source": [
    "sample_size=100000\n",
    "pi=np.pi \n",
    "\n",
    "#number of ordered pairs taken\n",
    "num=50\n",
    "\n",
    "X=[]\n",
    "Y=[]\n",
    "num_classes=2 ## even or odd\n",
    "for sample in range(sample_size):\n",
    "    x=pi*np.random.random((num))\n",
    "    fx=np.random.random((num))\n",
    "    X.append([x,fx,-x,-fx])\n",
    "    Y.append([-1])\n",
    "    X.append([x,fx,-x,fx])\n",
    "    Y.append([1])\n",
    "\n",
    "X=np.array(X)\n",
    "Y=np.array(Y)\n",
    "## reshape this data into row of features to pass to Keras for every sample\n",
    "X = X.reshape(X.shape[0], 4*num)\n",
    "data = np.concatenate((X,Y,),axis=1)"
   ]
  },
  {
   "cell_type": "code",
   "execution_count": 18,
   "metadata": {},
   "outputs": [],
   "source": [
    "pickle.dump(data, open(r'C:\\Users\\Aditya\\Desktop\\ML Project\\Training Data\\Even_Odd.bin', \"wb\"))"
   ]
  },
  {
   "cell_type": "code",
   "execution_count": null,
   "metadata": {},
   "outputs": [],
   "source": []
  }
 ],
 "metadata": {
  "kernelspec": {
   "display_name": "Python 3",
   "language": "python",
   "name": "python3"
  },
  "language_info": {
   "codemirror_mode": {
    "name": "ipython",
    "version": 3
   },
   "file_extension": ".py",
   "mimetype": "text/x-python",
   "name": "python",
   "nbconvert_exporter": "python",
   "pygments_lexer": "ipython3",
   "version": "3.7.9"
  }
 },
 "nbformat": 4,
 "nbformat_minor": 4
}
